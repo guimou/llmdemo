{
 "cells": [
  {
   "cell_type": "code",
   "execution_count": null,
   "id": "ec558ae6-e57e-4bf2-8b88-3bc9d187a60d",
   "metadata": {
    "tags": []
   },
   "outputs": [],
   "source": [
    "pip install text_generation"
   ]
  },
  {
   "cell_type": "code",
   "execution_count": 1,
   "id": "60bb3f0f-40b5-49a6-b493-5e361db0113e",
   "metadata": {
    "tags": []
   },
   "outputs": [],
   "source": [
    "# Imports\n",
    "from langchain.llms import HuggingFaceTextGenInference\n",
    "from langchain.callbacks.streaming_stdout import StreamingStdOutCallbackHandler"
   ]
  },
  {
   "cell_type": "code",
   "execution_count": 2,
   "id": "01baa2b8-529d-455d-ad39-ef4a96dbaf97",
   "metadata": {
    "tags": []
   },
   "outputs": [],
   "source": [
    "llm = HuggingFaceTextGenInference(\n",
    "    inference_server_url=\"http://hf-text-generation-inference-server:3000/\",\n",
    "    max_new_tokens=512,\n",
    "    top_k=10,\n",
    "    top_p=0.95,\n",
    "    typical_p=0.95,\n",
    "    temperature=0.01,\n",
    "    repetition_penalty=1.03,\n",
    ")\n",
    "\n",
    "llm_streaming = HuggingFaceTextGenInference(\n",
    "    inference_server_url=\"http://hf-text-generation-inference-server:3000/\",\n",
    "    max_new_tokens=512,\n",
    "    top_k=10,\n",
    "    top_p=0.95,\n",
    "    typical_p=0.95,\n",
    "    temperature=0.01,\n",
    "    repetition_penalty=1.03,\n",
    "    streaming=True\n",
    ")"
   ]
  },
  {
   "cell_type": "code",
   "execution_count": 3,
   "id": "82b6f271-f5ae-4ad1-b090-d0850ed0bee3",
   "metadata": {
    "tags": []
   },
   "outputs": [
    {
     "data": {
      "text/plain": [
       "\"\\nParis is a city of romance and beauty, with iconic landmarks like the Eiffel Tower and Notre Dame Cathedral. The city is home to world-renowned attractions, such as the Louvre Museum and the Palace of Versailles. The streets are filled with cafes, restaurants, and boutiques, and the architecture is a mix of Gothic and Art Deco styles. The city is also home to some of the world's best fashion designers, and its residents are known for their style and sophistication.\""
      ]
     },
     "execution_count": 3,
     "metadata": {},
     "output_type": "execute_result"
    }
   ],
   "source": [
    "llm(\"Can you describe Paris in 100 words?\")"
   ]
  },
  {
   "cell_type": "code",
   "execution_count": 4,
   "id": "fb1a1c57-a645-4bb8-80c2-dec2f3800afa",
   "metadata": {
    "tags": []
   },
   "outputs": [
    {
     "name": "stdout",
     "output_type": "stream",
     "text": [
      "\n",
      "Paris is a city of unparalleled beauty and charm. The Eiffel Tower, a symbol of the city, stands majestically over the skyline, its intricate metal structure casting a mesmerizing glow. The streets are lined with cafes, bistros, and restaurants, offering an array of culinary delights. The architecture of the city is a mix of classical and modern styles, with grand buildings and monuments that date back centuries. The Louvre Museum, one of the world's largest art museums, houses some of the finest works of art in the world, including the famous Mona Lisa. The Notre Dame Cathedral, with its intricate gothic architecture, is a masterpiece of the city. The Champs-Élysées, a famous avenue, is home to high-end boutiques and luxury shops. The city is home to some of the world's most prestigious universities, including the Sorbonne, and is a hub for culture and entertainment. Paris is a city of unparalleled beauty and charm, and is a must-see for anyone looking to experience the magic of France."
     ]
    },
    {
     "data": {
      "text/plain": [
       "\"\\nParis is a city of unparalleled beauty and charm. The Eiffel Tower, a symbol of the city, stands majestically over the skyline, its intricate metal structure casting a mesmerizing glow. The streets are lined with cafes, bistros, and restaurants, offering an array of culinary delights. The architecture of the city is a mix of classical and modern styles, with grand buildings and monuments that date back centuries. The Louvre Museum, one of the world's largest art museums, houses some of the finest works of art in the world, including the famous Mona Lisa. The Notre Dame Cathedral, with its intricate gothic architecture, is a masterpiece of the city. The Champs-Élysées, a famous avenue, is home to high-end boutiques and luxury shops. The city is home to some of the world's most prestigious universities, including the Sorbonne, and is a hub for culture and entertainment. Paris is a city of unparalleled beauty and charm, and is a must-see for anyone looking to experience the magic of France.\""
      ]
     },
     "execution_count": 4,
     "metadata": {},
     "output_type": "execute_result"
    }
   ],
   "source": [
    "llm_streaming(\"Can you describe Paris in 200 words?\", callbacks=[StreamingStdOutCallbackHandler()])"
   ]
  }
 ],
 "metadata": {
  "kernelspec": {
   "display_name": "Python 3 (ipykernel)",
   "language": "python",
   "name": "python3"
  },
  "language_info": {
   "codemirror_mode": {
    "name": "ipython",
    "version": 3
   },
   "file_extension": ".py",
   "mimetype": "text/x-python",
   "name": "python",
   "nbconvert_exporter": "python",
   "pygments_lexer": "ipython3",
   "version": "3.9.17"
  }
 },
 "nbformat": 4,
 "nbformat_minor": 5
}
